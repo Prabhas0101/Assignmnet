{
 "cells": [
  {
   "cell_type": "markdown",
   "id": "8d0e6d17",
   "metadata": {},
   "source": [
    "# Final Project Notebook\n"
   ]
  },
  {
   "cell_type": "markdown",
   "id": "b5361751",
   "metadata": {},
   "source": [
    "## Introduction\n",
    "This notebook is created as part of the final project for the Data Science course. It demonstrates various markdown and code cell exercises.\n"
   ]
  },
  {
   "cell_type": "markdown",
   "id": "3a17207a",
   "metadata": {},
   "source": [
    "## Data Science Languages\n",
    "The following are some of the popular languages used in data science:\n",
    "- Python\n",
    "- R\n",
    "- SQL\n",
    "- Julia\n",
    "- Scala\n"
   ]
  },
  {
   "cell_type": "markdown",
   "id": "9c85fe9e",
   "metadata": {},
   "source": [
    "## Data Science Libraries\n",
    "Here are some commonly used libraries in data science:\n",
    "- Pandas\n",
    "- NumPy\n",
    "- Matplotlib\n",
    "- SciPy\n",
    "- Scikit-learn\n",
    "- TensorFlow\n",
    "- Keras\n"
   ]
  },
  {
   "cell_type": "markdown",
   "id": "5ae8cc16",
   "metadata": {},
   "source": [
    "## Data Science Tools\n",
    "| Tool            | Description                        |\n",
    "|-----------------|------------------------------------|\n",
    "| Jupyter Notebook| Interactive computing environment  |\n",
    "| RStudio         | Integrated development environment for R |\n",
    "| Apache Hadoop   | Framework for distributed storage and processing of large data sets |\n",
    "| Tableau         | Data visualization tool            |\n",
    "| KNIME           | Open-source data analytics platform|\n"
   ]
  },
  {
   "cell_type": "markdown",
   "id": "47333421",
   "metadata": {},
   "source": [
    "## Arithmetic Expression Examples\n",
    "Below are examples of basic arithmetic operations such as addition, subtraction, multiplication, and division.\n"
   ]
  },
  {
   "cell_type": "code",
   "execution_count": 1,
   "id": "3c8710a2",
   "metadata": {},
   "outputs": [
    {
     "data": {
      "text/plain": [
       "23"
      ]
     },
     "execution_count": 1,
     "metadata": {},
     "output_type": "execute_result"
    }
   ],
   "source": [
    "# Multiplication and addition\n",
    "a = 5\n",
    "b = 3\n",
    "result = a * b + a + b\n",
    "result\n"
   ]
  },
  {
   "cell_type": "code",
   "execution_count": 2,
   "id": "08f43d38",
   "metadata": {},
   "outputs": [
    {
     "data": {
      "text/plain": [
       "2.5"
      ]
     },
     "execution_count": 2,
     "metadata": {},
     "output_type": "execute_result"
    }
   ],
   "source": [
    "# Conversion of minutes to hours\n",
    "minutes = 150\n",
    "hours = minutes / 60\n",
    "hours\n"
   ]
  },
  {
   "cell_type": "markdown",
   "id": "455d1759",
   "metadata": {},
   "source": [
    "## Objectives\n",
    "- Understand the basics of markdown and code cells\n",
    "- Learn how to list programming languages and libraries used in data science\n",
    "- Create and format tables in markdown\n",
    "- Perform basic arithmetic operations in Python\n",
    "- Convert time units in Python\n",
    "- Share work through GitHub\n"
   ]
  },
  {
   "cell_type": "markdown",
   "id": "7d0833f3",
   "metadata": {},
   "source": [
    "## Author\n",
    "Prabhas Baral\n"
   ]
  },
  {
   "cell_type": "code",
   "execution_count": null,
   "id": "30efda13",
   "metadata": {},
   "outputs": [],
   "source": []
  }
 ],
 "metadata": {
  "kernelspec": {
   "display_name": "Python 3 (ipykernel)",
   "language": "python",
   "name": "python3"
  },
  "language_info": {
   "codemirror_mode": {
    "name": "ipython",
    "version": 3
   },
   "file_extension": ".py",
   "mimetype": "text/x-python",
   "name": "python",
   "nbconvert_exporter": "python",
   "pygments_lexer": "ipython3",
   "version": "3.9.13"
  }
 },
 "nbformat": 4,
 "nbformat_minor": 5
}
